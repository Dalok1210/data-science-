{
 "cells": [
  {
   "cell_type": "code",
   "execution_count": 2,
   "id": "fc9501b5",
   "metadata": {},
   "outputs": [
    {
     "name": "stdout",
     "output_type": "stream",
     "text": [
      "hello world!!\n"
     ]
    }
   ],
   "source": [
    "print(\"hello world!!\")"
   ]
  },
  {
   "cell_type": "code",
   "execution_count": 3,
   "id": "3150f0bb",
   "metadata": {},
   "outputs": [
    {
     "name": "stdout",
     "output_type": "stream",
     "text": [
      "Alok dubey\n"
     ]
    }
   ],
   "source": [
    "print(\"Alok dubey\")"
   ]
  },
  {
   "cell_type": "code",
   "execution_count": 14,
   "id": "3fd7eb2f",
   "metadata": {},
   "outputs": [
    {
     "name": "stdout",
     "output_type": "stream",
     "text": [
      "15\n"
     ]
    }
   ],
   "source": [
    "x=6\n",
    "y=9\n",
    "print(y+x)"
   ]
  },
  {
   "cell_type": "code",
   "execution_count": 13,
   "id": "a89d045b",
   "metadata": {},
   "outputs": [
    {
     "name": "stdout",
     "output_type": "stream",
     "text": [
      "python is a case sensitive programing language\n"
     ]
    }
   ],
   "source": [
    "print(\"python is a case sensitive programing language\")"
   ]
  },
  {
   "cell_type": "code",
   "execution_count": 15,
   "id": "915d2337",
   "metadata": {},
   "outputs": [
    {
     "name": "stdout",
     "output_type": "stream",
     "text": [
      "my name is alok dubey\n"
     ]
    }
   ],
   "source": [
    "print(\"my name is alok dubey\")"
   ]
  },
  {
   "cell_type": "code",
   "execution_count": 18,
   "id": "16ef981f",
   "metadata": {},
   "outputs": [
    {
     "name": "stdout",
     "output_type": "stream",
     "text": [
      "5.0\n"
     ]
    }
   ],
   "source": [
    "r=2.5\n",
    "t=2\n",
    "print(r*t)"
   ]
  },
  {
   "cell_type": "code",
   "execution_count": 17,
   "id": "1beb8dbc",
   "metadata": {},
   "outputs": [
    {
     "name": "stdout",
     "output_type": "stream",
     "text": [
      "alok\n"
     ]
    }
   ],
   "source": [
    "print('alok')"
   ]
  },
  {
   "cell_type": "code",
   "execution_count": null,
   "id": "e1a3fadb",
   "metadata": {},
   "outputs": [],
   "source": []
  }
 ],
 "metadata": {
  "kernelspec": {
   "display_name": "Python 3 (ipykernel)",
   "language": "python",
   "name": "python3"
  },
  "language_info": {
   "codemirror_mode": {
    "name": "ipython",
    "version": 3
   },
   "file_extension": ".py",
   "mimetype": "text/x-python",
   "name": "python",
   "nbconvert_exporter": "python",
   "pygments_lexer": "ipython3",
   "version": "3.9.13"
  }
 },
 "nbformat": 4,
 "nbformat_minor": 5
}
